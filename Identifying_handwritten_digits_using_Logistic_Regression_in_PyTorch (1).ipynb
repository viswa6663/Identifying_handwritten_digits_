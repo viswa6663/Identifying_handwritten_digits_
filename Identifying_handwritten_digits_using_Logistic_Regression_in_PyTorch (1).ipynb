{
  "nbformat": 4,
  "nbformat_minor": 0,
  "metadata": {
    "colab": {
      "provenance": []
    },
    "kernelspec": {
      "name": "python3",
      "display_name": "Python 3"
    },
    "language_info": {
      "name": "python"
    }
  },
  "cells": [
    {
      "cell_type": "code",
      "execution_count": 1,
      "metadata": {
        "id": "vQbjHh3dghYE"
      },
      "outputs": [],
      "source": [
        "import torch\n",
        "import torch.nn as nn\n",
        "import torchvision.datasets as dsets\n",
        "import torchvision.transforms as transforms\n",
        "from torch.autograd import Variable"
      ]
    },
    {
      "cell_type": "code",
      "source": [
        "# Set the batch size\n",
        "batch_size = 64\n",
        "\n",
        "# MNIST Dataset (Images and Labels)\n",
        "train_dataset = dsets.MNIST(root ='./data',\n",
        "\t\t\t\t\t\t\ttrain = True,\n",
        "\t\t\t\t\t\t\ttransform = transforms.ToTensor(),\n",
        "\t\t\t\t\t\t\tdownload = True)\n",
        "\n",
        "test_dataset = dsets.MNIST(root ='./data',\n",
        "\t\t\t\t\t\ttrain = False,\n",
        "\t\t\t\t\t\ttransform = transforms.ToTensor())\n",
        "\n",
        "# Dataset Loader (Input Pipeline)\n",
        "train_loader = torch.utils.data.DataLoader(dataset = train_dataset,\n",
        "\t\t\t\t\t\t\t\t\t\tbatch_size = batch_size,\n",
        "\t\t\t\t\t\t\t\t\t\tshuffle = True)\n",
        "\n",
        "test_loader = torch.utils.data.DataLoader(dataset = test_dataset,\n",
        "\t\t\t\t\t\t\t\t\t\tbatch_size = batch_size,\n",
        "\t\t\t\t\t\t\t\t\t\tshuffle = False)"
      ],
      "metadata": {
        "id": "D3zaVXg1gpEG",
        "colab": {
          "base_uri": "https://localhost:8080/"
        },
        "outputId": "047443bf-18ba-4766-d1c8-8c0bbd4b53f7"
      },
      "execution_count": 2,
      "outputs": [
        {
          "output_type": "stream",
          "name": "stdout",
          "text": [
            "Downloading http://yann.lecun.com/exdb/mnist/train-images-idx3-ubyte.gz\n",
            "Failed to download (trying next):\n",
            "<urlopen error [SSL: CERTIFICATE_VERIFY_FAILED] certificate verify failed: certificate has expired (_ssl.c:1007)>\n",
            "\n",
            "Downloading https://ossci-datasets.s3.amazonaws.com/mnist/train-images-idx3-ubyte.gz\n",
            "Downloading https://ossci-datasets.s3.amazonaws.com/mnist/train-images-idx3-ubyte.gz to ./data/MNIST/raw/train-images-idx3-ubyte.gz\n"
          ]
        },
        {
          "output_type": "stream",
          "name": "stderr",
          "text": [
            "100%|██████████| 9912422/9912422 [00:00<00:00, 14835879.00it/s]\n"
          ]
        },
        {
          "output_type": "stream",
          "name": "stdout",
          "text": [
            "Extracting ./data/MNIST/raw/train-images-idx3-ubyte.gz to ./data/MNIST/raw\n",
            "\n",
            "Downloading http://yann.lecun.com/exdb/mnist/train-labels-idx1-ubyte.gz\n",
            "Failed to download (trying next):\n",
            "<urlopen error [SSL: CERTIFICATE_VERIFY_FAILED] certificate verify failed: certificate has expired (_ssl.c:1007)>\n",
            "\n",
            "Downloading https://ossci-datasets.s3.amazonaws.com/mnist/train-labels-idx1-ubyte.gz\n",
            "Downloading https://ossci-datasets.s3.amazonaws.com/mnist/train-labels-idx1-ubyte.gz to ./data/MNIST/raw/train-labels-idx1-ubyte.gz\n"
          ]
        },
        {
          "output_type": "stream",
          "name": "stderr",
          "text": [
            "100%|██████████| 28881/28881 [00:00<00:00, 1723958.87it/s]\n"
          ]
        },
        {
          "output_type": "stream",
          "name": "stdout",
          "text": [
            "Extracting ./data/MNIST/raw/train-labels-idx1-ubyte.gz to ./data/MNIST/raw\n",
            "\n",
            "Downloading http://yann.lecun.com/exdb/mnist/t10k-images-idx3-ubyte.gz\n",
            "Failed to download (trying next):\n",
            "<urlopen error [SSL: CERTIFICATE_VERIFY_FAILED] certificate verify failed: certificate has expired (_ssl.c:1007)>\n",
            "\n",
            "Downloading https://ossci-datasets.s3.amazonaws.com/mnist/t10k-images-idx3-ubyte.gz\n",
            "Downloading https://ossci-datasets.s3.amazonaws.com/mnist/t10k-images-idx3-ubyte.gz to ./data/MNIST/raw/t10k-images-idx3-ubyte.gz\n"
          ]
        },
        {
          "output_type": "stream",
          "name": "stderr",
          "text": [
            "100%|██████████| 1648877/1648877 [00:00<00:00, 13591031.27it/s]\n"
          ]
        },
        {
          "output_type": "stream",
          "name": "stdout",
          "text": [
            "Extracting ./data/MNIST/raw/t10k-images-idx3-ubyte.gz to ./data/MNIST/raw\n",
            "\n",
            "Downloading http://yann.lecun.com/exdb/mnist/t10k-labels-idx1-ubyte.gz\n",
            "Failed to download (trying next):\n",
            "<urlopen error [SSL: CERTIFICATE_VERIFY_FAILED] certificate verify failed: certificate has expired (_ssl.c:1007)>\n",
            "\n",
            "Downloading https://ossci-datasets.s3.amazonaws.com/mnist/t10k-labels-idx1-ubyte.gz\n",
            "Downloading https://ossci-datasets.s3.amazonaws.com/mnist/t10k-labels-idx1-ubyte.gz to ./data/MNIST/raw/t10k-labels-idx1-ubyte.gz\n"
          ]
        },
        {
          "output_type": "stream",
          "name": "stderr",
          "text": [
            "100%|██████████| 4542/4542 [00:00<00:00, 3722260.41it/s]"
          ]
        },
        {
          "output_type": "stream",
          "name": "stdout",
          "text": [
            "Extracting ./data/MNIST/raw/t10k-labels-idx1-ubyte.gz to ./data/MNIST/raw\n",
            "\n"
          ]
        },
        {
          "output_type": "stream",
          "name": "stderr",
          "text": [
            "\n"
          ]
        }
      ]
    },
    {
      "cell_type": "code",
      "source": [
        "# Hyper Parameters\n",
        "input_size = 784\n",
        "num_classes = 10\n",
        "num_epochs = 5\n",
        "batch_size = 100\n",
        "learning_rate = 0.001"
      ],
      "metadata": {
        "id": "h4dmDcp4gtId"
      },
      "execution_count": 3,
      "outputs": []
    },
    {
      "cell_type": "code",
      "source": [
        "class LogisticRegression(nn.Module):\n",
        "\tdef __init__(self, input_size, num_classes):\n",
        "\t\tsuper(LogisticRegression, self).__init__()\n",
        "\t\tself.linear = nn.Linear(input_size, num_classes)\n",
        "\n",
        "\tdef forward(self, x):\n",
        "\t\tout = self.linear(x)\n",
        "\t\treturn out"
      ],
      "metadata": {
        "id": "9e_CjA9qgvBD"
      },
      "execution_count": 4,
      "outputs": []
    },
    {
      "cell_type": "code",
      "source": [
        "model = LogisticRegression(input_size, num_classes)"
      ],
      "metadata": {
        "id": "C_9iXdP3gw7K"
      },
      "execution_count": 5,
      "outputs": []
    },
    {
      "cell_type": "code",
      "source": [
        "criterion = nn.CrossEntropyLoss()\n",
        "optimizer = torch.optim.SGD(model.parameters(), lr = learning_rate)"
      ],
      "metadata": {
        "id": "orbmccn2gynn"
      },
      "execution_count": 6,
      "outputs": []
    },
    {
      "source": [
        "# Training the Model\n",
        "for epoch in range(num_epochs):\n",
        "\tfor i, (images, labels) in enumerate(train_loader):\n",
        "\t\timages = Variable(images.view(-1, 28 * 28))\n",
        "\t\tlabels = Variable(labels)\n",
        "\n",
        "\t\t# Forward + Backward + Optimize\n",
        "\t\toptimizer.zero_grad()\n",
        "\t\toutputs = model(images)\n",
        "\t\tloss = criterion(outputs, labels)\n",
        "\t\tloss.backward()\n",
        "\t\toptimizer.step()\n",
        "\n",
        "\t\tif (i + 1) % 100 == 0:\n",
        "\t\t\tprint('Epoch: [% d/% d], Step: [% d/% d], Loss: %.4f'\n",
        "\t\t\t\t% (epoch + 1, num_epochs, i + 1,\n",
        "\t\t\t\t\tlen(train_dataset) // batch_size, loss.item())) # Use loss.item() to get the scalar value"
      ],
      "cell_type": "code",
      "metadata": {
        "colab": {
          "base_uri": "https://localhost:8080/"
        },
        "id": "TiLYnDy1iRlK",
        "outputId": "d4e2f37d-1ece-4f64-961f-927ebf5986f1"
      },
      "execution_count": 7,
      "outputs": [
        {
          "output_type": "stream",
          "name": "stdout",
          "text": [
            "Epoch: [ 1/ 5], Step: [ 100/ 600], Loss: 2.2111\n",
            "Epoch: [ 1/ 5], Step: [ 200/ 600], Loss: 2.1319\n",
            "Epoch: [ 1/ 5], Step: [ 300/ 600], Loss: 2.0370\n",
            "Epoch: [ 1/ 5], Step: [ 400/ 600], Loss: 1.9474\n",
            "Epoch: [ 1/ 5], Step: [ 500/ 600], Loss: 1.8533\n",
            "Epoch: [ 1/ 5], Step: [ 600/ 600], Loss: 1.8528\n",
            "Epoch: [ 1/ 5], Step: [ 700/ 600], Loss: 1.7390\n",
            "Epoch: [ 1/ 5], Step: [ 800/ 600], Loss: 1.7235\n",
            "Epoch: [ 1/ 5], Step: [ 900/ 600], Loss: 1.5959\n",
            "Epoch: [ 2/ 5], Step: [ 100/ 600], Loss: 1.5473\n",
            "Epoch: [ 2/ 5], Step: [ 200/ 600], Loss: 1.4203\n",
            "Epoch: [ 2/ 5], Step: [ 300/ 600], Loss: 1.4543\n",
            "Epoch: [ 2/ 5], Step: [ 400/ 600], Loss: 1.4141\n",
            "Epoch: [ 2/ 5], Step: [ 500/ 600], Loss: 1.4278\n",
            "Epoch: [ 2/ 5], Step: [ 600/ 600], Loss: 1.3381\n",
            "Epoch: [ 2/ 5], Step: [ 700/ 600], Loss: 1.3412\n",
            "Epoch: [ 2/ 5], Step: [ 800/ 600], Loss: 1.3059\n",
            "Epoch: [ 2/ 5], Step: [ 900/ 600], Loss: 1.2873\n",
            "Epoch: [ 3/ 5], Step: [ 100/ 600], Loss: 1.2144\n",
            "Epoch: [ 3/ 5], Step: [ 200/ 600], Loss: 1.1650\n",
            "Epoch: [ 3/ 5], Step: [ 300/ 600], Loss: 1.0988\n",
            "Epoch: [ 3/ 5], Step: [ 400/ 600], Loss: 1.1833\n",
            "Epoch: [ 3/ 5], Step: [ 500/ 600], Loss: 1.0831\n",
            "Epoch: [ 3/ 5], Step: [ 600/ 600], Loss: 1.1928\n",
            "Epoch: [ 3/ 5], Step: [ 700/ 600], Loss: 0.9715\n",
            "Epoch: [ 3/ 5], Step: [ 800/ 600], Loss: 1.0631\n",
            "Epoch: [ 3/ 5], Step: [ 900/ 600], Loss: 1.0427\n",
            "Epoch: [ 4/ 5], Step: [ 100/ 600], Loss: 1.0930\n",
            "Epoch: [ 4/ 5], Step: [ 200/ 600], Loss: 0.9793\n",
            "Epoch: [ 4/ 5], Step: [ 300/ 600], Loss: 1.0600\n",
            "Epoch: [ 4/ 5], Step: [ 400/ 600], Loss: 0.9010\n",
            "Epoch: [ 4/ 5], Step: [ 500/ 600], Loss: 0.9713\n",
            "Epoch: [ 4/ 5], Step: [ 600/ 600], Loss: 0.9782\n",
            "Epoch: [ 4/ 5], Step: [ 700/ 600], Loss: 1.0082\n",
            "Epoch: [ 4/ 5], Step: [ 800/ 600], Loss: 1.0812\n",
            "Epoch: [ 4/ 5], Step: [ 900/ 600], Loss: 1.0408\n",
            "Epoch: [ 5/ 5], Step: [ 100/ 600], Loss: 0.9863\n",
            "Epoch: [ 5/ 5], Step: [ 200/ 600], Loss: 0.8587\n",
            "Epoch: [ 5/ 5], Step: [ 300/ 600], Loss: 0.9367\n",
            "Epoch: [ 5/ 5], Step: [ 400/ 600], Loss: 0.7642\n",
            "Epoch: [ 5/ 5], Step: [ 500/ 600], Loss: 0.8020\n",
            "Epoch: [ 5/ 5], Step: [ 600/ 600], Loss: 0.7196\n",
            "Epoch: [ 5/ 5], Step: [ 700/ 600], Loss: 0.8882\n",
            "Epoch: [ 5/ 5], Step: [ 800/ 600], Loss: 0.8853\n",
            "Epoch: [ 5/ 5], Step: [ 900/ 600], Loss: 0.8088\n"
          ]
        }
      ]
    },
    {
      "cell_type": "code",
      "source": [
        "# Test the Model\n",
        "correct = 0\n",
        "total = 0\n",
        "for images, labels in test_loader:\n",
        "\timages = Variable(images.view(-1, 28 * 28))\n",
        "\toutputs = model(images)\n",
        "\t_, predicted = torch.max(outputs.data, 1)\n",
        "\ttotal += labels.size(0)\n",
        "\tcorrect += (predicted == labels).sum()\n",
        "\n",
        "print('Accuracy of the model on the 10000 test images: % d %%' % (\n",
        "\t\t\t100 * correct / total))"
      ],
      "metadata": {
        "colab": {
          "base_uri": "https://localhost:8080/"
        },
        "id": "si7EkdZtg1vX",
        "outputId": "53233525-ee95-4e04-a58f-d846dc19f622"
      },
      "execution_count": 8,
      "outputs": [
        {
          "output_type": "stream",
          "name": "stdout",
          "text": [
            "Accuracy of the model on the 10000 test images:  84 %\n"
          ]
        }
      ]
    }
  ]
}